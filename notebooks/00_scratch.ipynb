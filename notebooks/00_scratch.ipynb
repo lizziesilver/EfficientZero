{
 "cells": [
  {
   "cell_type": "code",
   "execution_count": 1,
   "metadata": {},
   "outputs": [
    {
     "name": "stderr",
     "output_type": "stream",
     "text": [
      "/Users/lizzie/repos/EfficientZero/.venv/lib/python3.12/site-packages/tqdm/auto.py:21: TqdmWarning: IProgress not found. Please update jupyter and ipywidgets. See https://ipywidgets.readthedocs.io/en/stable/user_install.html\n",
      "  from .autonotebook import tqdm as notebook_tqdm\n",
      "2024-07-09 08:51:02,482\tINFO util.py:154 -- Missing packages: ['ipywidgets']. Run `pip install -U ipywidgets`, then restart the notebook server for rich notebook output.\n"
     ]
    }
   ],
   "source": [
    "import sys\n",
    "import os\n",
    "os.chdir('..')\n",
    "\n",
    "import argparse\n",
    "import logging.config\n",
    "import os\n",
    "\n",
    "import numpy as np\n",
    "import ray\n",
    "import torch\n",
    "from torch.utils.tensorboard import SummaryWriter\n",
    "\n",
    "from core.test import test\n",
    "from core.train import train\n",
    "from core.utils import init_logger, make_results_dir, set_seed"
   ]
  },
  {
   "cell_type": "code",
   "execution_count": 2,
   "metadata": {},
   "outputs": [],
   "source": [
    "parser = argparse.ArgumentParser(description='EfficientZero')"
   ]
  },
  {
   "cell_type": "code",
   "execution_count": 3,
   "metadata": {},
   "outputs": [
    {
     "data": {
      "text/plain": [
       "ArgumentParser(prog='ipykernel_launcher.py', usage=None, description='EfficientZero', formatter_class=<class 'argparse.HelpFormatter'>, conflict_handler='error', add_help=True)"
      ]
     },
     "execution_count": 3,
     "metadata": {},
     "output_type": "execute_result"
    }
   ],
   "source": [
    "parser"
   ]
  },
  {
   "cell_type": "code",
   "execution_count": 10,
   "metadata": {},
   "outputs": [],
   "source": [
    "args = parser.parse_args([])\n",
    "args.device = 'cpu'\n",
    "args.env = 'BreakoutNoFrameskip-v4'\n",
    "args.case = 'atari'\n",
    "args.opr = 'train'\n",
    "args.amp_type = 'none' #'torch_amp'\n",
    "args.no_cuda = True\n",
    "args.render = True\n",
    "args.save_video = True\n",
    "args.num_gpus = 0\n",
    "args.num_cpus = 4\n",
    "args.result_dir = '../results'\n",
    "args.model_path = '../results/test_model.p'\n",
    "args.debug = True\n",
    "args.cpu_actor = 4\n",
    "args.gpu_actor = 0\n",
    "args.p_mcts_num = 2\n",
    "\n",
    "# defaults\n",
    "args.seed = 0\n",
    "args.revisit_policy_search_rate = .99\n",
    "args.use_root_value = False\n",
    "args.use_priority = False\n",
    "args.use_max_priority = False\n",
    "args.test_episodes = 10\n",
    "args.use_augmentation = True\n",
    "args.augmentation = ['shift', 'intensity']\n",
    "args.info = 'none'\n",
    "args.load_model = False\n",
    "args.object_store_memory = 150 * 1024 * 1024 * 1024"
   ]
  },
  {
   "cell_type": "code",
   "execution_count": 11,
   "metadata": {},
   "outputs": [
    {
     "ename": "RuntimeError",
     "evalue": "Maybe you called ray.init twice by accident? This error can be suppressed by passing in 'ignore_reinit_error=True' or by calling 'ray.shutdown()' prior to 'ray.init()'.",
     "output_type": "error",
     "traceback": [
      "\u001b[0;31m---------------------------------------------------------------------------\u001b[0m",
      "\u001b[0;31mRuntimeError\u001b[0m                              Traceback (most recent call last)",
      "Cell \u001b[0;32mIn[11], line 2\u001b[0m\n\u001b[1;32m      1\u001b[0m \u001b[38;5;28;01mif\u001b[39;00m args\u001b[38;5;241m.\u001b[39mopr \u001b[38;5;241m==\u001b[39m \u001b[38;5;124m'\u001b[39m\u001b[38;5;124mtrain\u001b[39m\u001b[38;5;124m'\u001b[39m:\n\u001b[0;32m----> 2\u001b[0m     \u001b[43mray\u001b[49m\u001b[38;5;241;43m.\u001b[39;49m\u001b[43minit\u001b[49m\u001b[43m(\u001b[49m\u001b[43mnum_gpus\u001b[49m\u001b[38;5;241;43m=\u001b[39;49m\u001b[43margs\u001b[49m\u001b[38;5;241;43m.\u001b[39;49m\u001b[43mnum_gpus\u001b[49m\u001b[43m,\u001b[49m\u001b[43m \u001b[49m\u001b[43mnum_cpus\u001b[49m\u001b[38;5;241;43m=\u001b[39;49m\u001b[43margs\u001b[49m\u001b[38;5;241;43m.\u001b[39;49m\u001b[43mnum_cpus\u001b[49m\u001b[43m,\u001b[49m\n\u001b[1;32m      3\u001b[0m \u001b[43m                \u001b[49m\u001b[38;5;66;43;03m# object_store_memory=args.object_store_memory\u001b[39;49;00m\n\u001b[1;32m      4\u001b[0m \u001b[43m                \u001b[49m\u001b[43m)\u001b[49m\n\u001b[1;32m      5\u001b[0m \u001b[38;5;28;01melse\u001b[39;00m:\n\u001b[1;32m      6\u001b[0m     ray\u001b[38;5;241m.\u001b[39minit()\n",
      "File \u001b[0;32m~/repos/EfficientZero/.venv/lib/python3.12/site-packages/ray/_private/client_mode_hook.py:103\u001b[0m, in \u001b[0;36mclient_mode_hook.<locals>.wrapper\u001b[0;34m(*args, **kwargs)\u001b[0m\n\u001b[1;32m    101\u001b[0m     \u001b[38;5;28;01mif\u001b[39;00m func\u001b[38;5;241m.\u001b[39m\u001b[38;5;18m__name__\u001b[39m \u001b[38;5;241m!=\u001b[39m \u001b[38;5;124m\"\u001b[39m\u001b[38;5;124minit\u001b[39m\u001b[38;5;124m\"\u001b[39m \u001b[38;5;129;01mor\u001b[39;00m is_client_mode_enabled_by_default:\n\u001b[1;32m    102\u001b[0m         \u001b[38;5;28;01mreturn\u001b[39;00m \u001b[38;5;28mgetattr\u001b[39m(ray, func\u001b[38;5;241m.\u001b[39m\u001b[38;5;18m__name__\u001b[39m)(\u001b[38;5;241m*\u001b[39margs, \u001b[38;5;241m*\u001b[39m\u001b[38;5;241m*\u001b[39mkwargs)\n\u001b[0;32m--> 103\u001b[0m \u001b[38;5;28;01mreturn\u001b[39;00m \u001b[43mfunc\u001b[49m\u001b[43m(\u001b[49m\u001b[38;5;241;43m*\u001b[39;49m\u001b[43margs\u001b[49m\u001b[43m,\u001b[49m\u001b[43m \u001b[49m\u001b[38;5;241;43m*\u001b[39;49m\u001b[38;5;241;43m*\u001b[39;49m\u001b[43mkwargs\u001b[49m\u001b[43m)\u001b[49m\n",
      "File \u001b[0;32m~/repos/EfficientZero/.venv/lib/python3.12/site-packages/ray/_private/worker.py:1608\u001b[0m, in \u001b[0;36minit\u001b[0;34m(address, num_cpus, num_gpus, resources, labels, object_store_memory, local_mode, ignore_reinit_error, include_dashboard, dashboard_host, dashboard_port, job_config, configure_logging, logging_level, logging_format, logging_config, log_to_driver, namespace, runtime_env, storage, **kwargs)\u001b[0m\n\u001b[1;32m   1606\u001b[0m         \u001b[38;5;28;01mreturn\u001b[39;00m RayContext(\u001b[38;5;28mdict\u001b[39m(_global_node\u001b[38;5;241m.\u001b[39maddress_info, node_id\u001b[38;5;241m=\u001b[39mnode_id\u001b[38;5;241m.\u001b[39mhex()))\n\u001b[1;32m   1607\u001b[0m     \u001b[38;5;28;01melse\u001b[39;00m:\n\u001b[0;32m-> 1608\u001b[0m         \u001b[38;5;28;01mraise\u001b[39;00m \u001b[38;5;167;01mRuntimeError\u001b[39;00m(\n\u001b[1;32m   1609\u001b[0m             \u001b[38;5;124m\"\u001b[39m\u001b[38;5;124mMaybe you called ray.init twice by accident? \u001b[39m\u001b[38;5;124m\"\u001b[39m\n\u001b[1;32m   1610\u001b[0m             \u001b[38;5;124m\"\u001b[39m\u001b[38;5;124mThis error can be suppressed by passing in \u001b[39m\u001b[38;5;124m\"\u001b[39m\n\u001b[1;32m   1611\u001b[0m             \u001b[38;5;124m\"\u001b[39m\u001b[38;5;124m'\u001b[39m\u001b[38;5;124mignore_reinit_error=True\u001b[39m\u001b[38;5;124m'\u001b[39m\u001b[38;5;124m or by calling \u001b[39m\u001b[38;5;124m\"\u001b[39m\n\u001b[1;32m   1612\u001b[0m             \u001b[38;5;124m\"\u001b[39m\u001b[38;5;124m'\u001b[39m\u001b[38;5;124mray.shutdown()\u001b[39m\u001b[38;5;124m'\u001b[39m\u001b[38;5;124m prior to \u001b[39m\u001b[38;5;124m'\u001b[39m\u001b[38;5;124mray.init()\u001b[39m\u001b[38;5;124m'\u001b[39m\u001b[38;5;124m.\u001b[39m\u001b[38;5;124m\"\u001b[39m\n\u001b[1;32m   1613\u001b[0m         )\n\u001b[1;32m   1615\u001b[0m _system_config \u001b[38;5;241m=\u001b[39m _system_config \u001b[38;5;129;01mor\u001b[39;00m {}\n\u001b[1;32m   1616\u001b[0m \u001b[38;5;28;01mif\u001b[39;00m \u001b[38;5;129;01mnot\u001b[39;00m \u001b[38;5;28misinstance\u001b[39m(_system_config, \u001b[38;5;28mdict\u001b[39m):\n",
      "\u001b[0;31mRuntimeError\u001b[0m: Maybe you called ray.init twice by accident? This error can be suppressed by passing in 'ignore_reinit_error=True' or by calling 'ray.shutdown()' prior to 'ray.init()'."
     ]
    }
   ],
   "source": [
    "if args.opr == 'train':\n",
    "    ray.init(num_gpus=args.num_gpus, num_cpus=args.num_cpus,\n",
    "            ignore_reinit_error=True,\n",
    "            # object_store_memory=args.object_store_memory\n",
    "            )\n",
    "else:\n",
    "    ray.init()"
   ]
  },
  {
   "cell_type": "code",
   "execution_count": 6,
   "metadata": {},
   "outputs": [],
   "source": [
    "# ray.init()\n",
    "# ray.shutdown()"
   ]
  },
  {
   "cell_type": "code",
   "execution_count": 7,
   "metadata": {},
   "outputs": [
    {
     "name": "stderr",
     "output_type": "stream",
     "text": [
      "A.L.E: Arcade Learning Environment (version 0.8.1+ba84c14)\n",
      "[Powered by Stella]\n",
      "[2024-07-09 08:51:05,989][train][INFO][3914971446.py><module>] ==> Path: ../results/atari/none/BreakoutNoFrameskip-v4/seed=0/Tue Jul  9 08:51:05 2024\n",
      "INFO:train:Path: ../results/atari/none/BreakoutNoFrameskip-v4/seed=0/Tue Jul  9 08:51:05 2024\n",
      "[2024-07-09 08:51:05,989][train][INFO][3914971446.py><module>] ==> Path: ../results/atari/none/BreakoutNoFrameskip-v4/seed=0/Tue Jul  9 08:51:05 2024\n",
      "[2024-07-09 08:51:05,990][train][INFO][3914971446.py><module>] ==> Param: {'action_space_size': np.int64(4), 'num_actors': 1, 'do_consistency': True, 'use_value_prefix': True, 'off_correction': True, 'gray_scale': False, 'auto_td_steps_ratio': 0.3, 'episode_life': True, 'change_temperature': True, 'init_zero': True, 'state_norm': False, 'clip_reward': True, 'random_start': True, 'cvt_string': True, 'image_based': True, 'max_moves': 3000, 'test_max_moves': 3000, 'history_length': 400, 'num_simulations': 50, 'discount': 0.988053892081, 'max_grad_norm': 5, 'test_interval': 10000, 'test_episodes': 32, 'value_delta_max': 0.01, 'root_dirichlet_alpha': 0.3, 'root_exploration_fraction': 0.25, 'pb_c_base': 19652, 'pb_c_init': 1.25, 'training_steps': 100000, 'last_steps': 20000, 'checkpoint_interval': 100, 'target_model_interval': 200, 'save_ckpt_interval': 10000, 'log_interval': 1000, 'vis_interval': 1000, 'start_transitions': 2000, 'total_transitions': 100000, 'transition_num': 1, 'batch_size': 256, 'num_unroll_steps': 5, 'td_steps': 5, 'frame_skip': 4, 'stacked_observations': 4, 'lstm_hidden_size': 512, 'lstm_horizon_len': 5, 'reward_loss_coeff': 1, 'value_loss_coeff': 0.25, 'policy_loss_coeff': 1, 'consistency_coeff': 2, 'device': 'cpu', 'debug': True, 'seed': 0, 'value_support': <core.config.DiscreteSupport object at 0x13c900860>, 'reward_support': <core.config.DiscreteSupport object at 0x13c900950>, 'weight_decay': 0.0001, 'momentum': 0.9, 'lr_warm_up': 0.01, 'lr_warm_step': 1000, 'lr_init': 0.2, 'lr_decay_rate': 0.1, 'lr_decay_steps': 100000, 'mini_infer_size': 64, 'priority_prob_alpha': 0, 'priority_prob_beta': 0.4, 'prioritized_replay_eps': 1e-06, 'image_channel': 3, 'proj_hid': 1024, 'proj_out': 1024, 'pred_hid': 512, 'pred_out': 1024, 'bn_mt': 0.1, 'blocks': 1, 'channels': 64, 'reduced_channels_reward': 16, 'reduced_channels_value': 16, 'reduced_channels_policy': 16, 'resnet_fc_reward_layers': [32], 'resnet_fc_value_layers': [32], 'resnet_fc_policy_layers': [32], 'downsample': True, 'env_name': 'BreakoutNoFrameskip-v4', 'obs_shape': (12, 96, 96), 'case': 'atari', 'amp_type': 'none', 'use_priority': False, 'use_max_priority': False, 'cpu_actor': 4, 'gpu_actor': 0, 'p_mcts_num': 2, 'use_root_value': False, 'auto_td_steps': 30000.0, 'use_augmentation': True, 'augmentation': ['shift', 'intensity'], 'revisit_policy_search_rate': 0.99, 'model_dir': '../results/atari/none/BreakoutNoFrameskip-v4/seed=0/Tue Jul  9 08:51:05 2024/model'}\n",
      "INFO:train:Param: {'action_space_size': np.int64(4), 'num_actors': 1, 'do_consistency': True, 'use_value_prefix': True, 'off_correction': True, 'gray_scale': False, 'auto_td_steps_ratio': 0.3, 'episode_life': True, 'change_temperature': True, 'init_zero': True, 'state_norm': False, 'clip_reward': True, 'random_start': True, 'cvt_string': True, 'image_based': True, 'max_moves': 3000, 'test_max_moves': 3000, 'history_length': 400, 'num_simulations': 50, 'discount': 0.988053892081, 'max_grad_norm': 5, 'test_interval': 10000, 'test_episodes': 32, 'value_delta_max': 0.01, 'root_dirichlet_alpha': 0.3, 'root_exploration_fraction': 0.25, 'pb_c_base': 19652, 'pb_c_init': 1.25, 'training_steps': 100000, 'last_steps': 20000, 'checkpoint_interval': 100, 'target_model_interval': 200, 'save_ckpt_interval': 10000, 'log_interval': 1000, 'vis_interval': 1000, 'start_transitions': 2000, 'total_transitions': 100000, 'transition_num': 1, 'batch_size': 256, 'num_unroll_steps': 5, 'td_steps': 5, 'frame_skip': 4, 'stacked_observations': 4, 'lstm_hidden_size': 512, 'lstm_horizon_len': 5, 'reward_loss_coeff': 1, 'value_loss_coeff': 0.25, 'policy_loss_coeff': 1, 'consistency_coeff': 2, 'device': 'cpu', 'debug': True, 'seed': 0, 'value_support': <core.config.DiscreteSupport object at 0x13c900860>, 'reward_support': <core.config.DiscreteSupport object at 0x13c900950>, 'weight_decay': 0.0001, 'momentum': 0.9, 'lr_warm_up': 0.01, 'lr_warm_step': 1000, 'lr_init': 0.2, 'lr_decay_rate': 0.1, 'lr_decay_steps': 100000, 'mini_infer_size': 64, 'priority_prob_alpha': 0, 'priority_prob_beta': 0.4, 'prioritized_replay_eps': 1e-06, 'image_channel': 3, 'proj_hid': 1024, 'proj_out': 1024, 'pred_hid': 512, 'pred_out': 1024, 'bn_mt': 0.1, 'blocks': 1, 'channels': 64, 'reduced_channels_reward': 16, 'reduced_channels_value': 16, 'reduced_channels_policy': 16, 'resnet_fc_reward_layers': [32], 'resnet_fc_value_layers': [32], 'resnet_fc_policy_layers': [32], 'downsample': True, 'env_name': 'BreakoutNoFrameskip-v4', 'obs_shape': (12, 96, 96), 'case': 'atari', 'amp_type': 'none', 'use_priority': False, 'use_max_priority': False, 'cpu_actor': 4, 'gpu_actor': 0, 'p_mcts_num': 2, 'use_root_value': False, 'auto_td_steps': 30000.0, 'use_augmentation': True, 'augmentation': ['shift', 'intensity'], 'revisit_policy_search_rate': 0.99, 'model_dir': '../results/atari/none/BreakoutNoFrameskip-v4/seed=0/Tue Jul  9 08:51:05 2024/model'}\n",
      "[2024-07-09 08:51:05,990][train][INFO][3914971446.py><module>] ==> Param: {'action_space_size': np.int64(4), 'num_actors': 1, 'do_consistency': True, 'use_value_prefix': True, 'off_correction': True, 'gray_scale': False, 'auto_td_steps_ratio': 0.3, 'episode_life': True, 'change_temperature': True, 'init_zero': True, 'state_norm': False, 'clip_reward': True, 'random_start': True, 'cvt_string': True, 'image_based': True, 'max_moves': 3000, 'test_max_moves': 3000, 'history_length': 400, 'num_simulations': 50, 'discount': 0.988053892081, 'max_grad_norm': 5, 'test_interval': 10000, 'test_episodes': 32, 'value_delta_max': 0.01, 'root_dirichlet_alpha': 0.3, 'root_exploration_fraction': 0.25, 'pb_c_base': 19652, 'pb_c_init': 1.25, 'training_steps': 100000, 'last_steps': 20000, 'checkpoint_interval': 100, 'target_model_interval': 200, 'save_ckpt_interval': 10000, 'log_interval': 1000, 'vis_interval': 1000, 'start_transitions': 2000, 'total_transitions': 100000, 'transition_num': 1, 'batch_size': 256, 'num_unroll_steps': 5, 'td_steps': 5, 'frame_skip': 4, 'stacked_observations': 4, 'lstm_hidden_size': 512, 'lstm_horizon_len': 5, 'reward_loss_coeff': 1, 'value_loss_coeff': 0.25, 'policy_loss_coeff': 1, 'consistency_coeff': 2, 'device': 'cpu', 'debug': True, 'seed': 0, 'value_support': <core.config.DiscreteSupport object at 0x13c900860>, 'reward_support': <core.config.DiscreteSupport object at 0x13c900950>, 'weight_decay': 0.0001, 'momentum': 0.9, 'lr_warm_up': 0.01, 'lr_warm_step': 1000, 'lr_init': 0.2, 'lr_decay_rate': 0.1, 'lr_decay_steps': 100000, 'mini_infer_size': 64, 'priority_prob_alpha': 0, 'priority_prob_beta': 0.4, 'prioritized_replay_eps': 1e-06, 'image_channel': 3, 'proj_hid': 1024, 'proj_out': 1024, 'pred_hid': 512, 'pred_out': 1024, 'bn_mt': 0.1, 'blocks': 1, 'channels': 64, 'reduced_channels_reward': 16, 'reduced_channels_value': 16, 'reduced_channels_policy': 16, 'resnet_fc_reward_layers': [32], 'resnet_fc_value_layers': [32], 'resnet_fc_policy_layers': [32], 'downsample': True, 'env_name': 'BreakoutNoFrameskip-v4', 'obs_shape': (12, 96, 96), 'case': 'atari', 'amp_type': 'none', 'use_priority': False, 'use_max_priority': False, 'cpu_actor': 4, 'gpu_actor': 0, 'p_mcts_num': 2, 'use_root_value': False, 'auto_td_steps': 30000.0, 'use_augmentation': True, 'augmentation': ['shift', 'intensity'], 'revisit_policy_search_rate': 0.99, 'model_dir': '../results/atari/none/BreakoutNoFrameskip-v4/seed=0/Tue Jul  9 08:51:05 2024/model'}\n"
     ]
    }
   ],
   "source": [
    "# seeding random iterators\n",
    "set_seed(args.seed)\n",
    "\n",
    "# import corresponding configuration , neural networks and envs\n",
    "if args.case == 'atari':\n",
    "    from config.atari import game_config\n",
    "else:\n",
    "    raise Exception('Invalid --case option')\n",
    "\n",
    "# set config as per arguments\n",
    "exp_path = game_config.set_config(args)\n",
    "exp_path, log_base_path = make_results_dir(exp_path, args)\n",
    "\n",
    "# set-up logger\n",
    "init_logger(log_base_path)\n",
    "logging.getLogger('train').info('Path: {}'.format(exp_path))\n",
    "logging.getLogger('train').info('Param: {}'.format(game_config.get_hparams()))\n",
    "\n",
    "device = game_config.device"
   ]
  },
  {
   "cell_type": "code",
   "execution_count": 8,
   "metadata": {},
   "outputs": [
    {
     "name": "stderr",
     "output_type": "stream",
     "text": [
      "/Users/lizzie/repos/EfficientZero/.venv/lib/python3.12/site-packages/torch/amp/grad_scaler.py:131: UserWarning: torch.cuda.amp.GradScaler is enabled, but CUDA is not available.  Disabling.\n",
      "  warnings.warn(\n"
     ]
    },
    {
     "name": "stdout",
     "output_type": "stream",
     "text": [
      "\u001b[36m(autoscaler +7s)\u001b[0m Tip: use `ray status` to view detailed cluster status. To disable these messages, set RAY_SCHEDULER_EVENTS=0.\n",
      "\u001b[33m(autoscaler +7s)\u001b[0m Error: No available node types can fulfill resource request {'CPU': 1.0, 'GPU': 0.25}. Add suitable node types to this cluster to resolve this issue.\n",
      "\u001b[33m(autoscaler +7s)\u001b[0m Error: No available node types can fulfill resource request {'CPU': 1.0, 'GPU': 0.125}. Add suitable node types to this cluster to resolve this issue.\n",
      "\u001b[33m(autoscaler +42s)\u001b[0m Error: No available node types can fulfill resource request {'CPU': 1.0, 'GPU': 0.25}. Add suitable node types to this cluster to resolve this issue.\n",
      "\u001b[33m(autoscaler +42s)\u001b[0m Error: No available node types can fulfill resource request {'CPU': 1.0, 'GPU': 0.125}. Add suitable node types to this cluster to resolve this issue.\n",
      "\u001b[33m(autoscaler +1m17s)\u001b[0m Error: No available node types can fulfill resource request {'CPU': 1.0, 'GPU': 0.25}. Add suitable node types to this cluster to resolve this issue.\n",
      "\u001b[33m(autoscaler +1m17s)\u001b[0m Error: No available node types can fulfill resource request {'CPU': 1.0, 'GPU': 0.125}. Add suitable node types to this cluster to resolve this issue.\n",
      "\u001b[33m(autoscaler +1m52s)\u001b[0m Error: No available node types can fulfill resource request {'CPU': 1.0, 'GPU': 0.25}. Add suitable node types to this cluster to resolve this issue.\n",
      "\u001b[33m(autoscaler +1m52s)\u001b[0m Error: No available node types can fulfill resource request {'CPU': 1.0, 'GPU': 0.125}. Add suitable node types to this cluster to resolve this issue.\n",
      "\u001b[33m(autoscaler +2m27s)\u001b[0m Error: No available node types can fulfill resource request {'CPU': 1.0, 'GPU': 0.25}. Add suitable node types to this cluster to resolve this issue.\n",
      "\u001b[33m(autoscaler +2m27s)\u001b[0m Error: No available node types can fulfill resource request {'CPU': 1.0, 'GPU': 0.125}. Add suitable node types to this cluster to resolve this issue.\n",
      "\u001b[33m(autoscaler +3m2s)\u001b[0m Error: No available node types can fulfill resource request {'CPU': 1.0, 'GPU': 0.25}. Add suitable node types to this cluster to resolve this issue.\n",
      "\u001b[33m(autoscaler +3m2s)\u001b[0m Error: No available node types can fulfill resource request {'CPU': 1.0, 'GPU': 0.125}. Add suitable node types to this cluster to resolve this issue.\n",
      "\u001b[33m(autoscaler +3m37s)\u001b[0m Error: No available node types can fulfill resource request {'CPU': 1.0, 'GPU': 0.25}. Add suitable node types to this cluster to resolve this issue.\n",
      "\u001b[33m(autoscaler +3m37s)\u001b[0m Error: No available node types can fulfill resource request {'CPU': 1.0, 'GPU': 0.125}. Add suitable node types to this cluster to resolve this issue.\n"
     ]
    },
    {
     "ename": "KeyboardInterrupt",
     "evalue": "",
     "output_type": "error",
     "traceback": [
      "\u001b[0;31m---------------------------------------------------------------------------\u001b[0m",
      "\u001b[0;31mKeyboardInterrupt\u001b[0m                         Traceback (most recent call last)",
      "Cell \u001b[0;32mIn[8], line 8\u001b[0m\n\u001b[1;32m      6\u001b[0m \u001b[38;5;28;01melse\u001b[39;00m:\n\u001b[1;32m      7\u001b[0m     model_path \u001b[38;5;241m=\u001b[39m \u001b[38;5;28;01mNone\u001b[39;00m\n\u001b[0;32m----> 8\u001b[0m model, weights \u001b[38;5;241m=\u001b[39m \u001b[43mtrain\u001b[49m\u001b[43m(\u001b[49m\u001b[43mgame_config\u001b[49m\u001b[43m,\u001b[49m\u001b[43m \u001b[49m\u001b[43msummary_writer\u001b[49m\u001b[43m,\u001b[49m\u001b[43m \u001b[49m\u001b[43mmodel_path\u001b[49m\u001b[43m)\u001b[49m\n\u001b[1;32m      9\u001b[0m model\u001b[38;5;241m.\u001b[39mset_weights(weights)\n\u001b[1;32m     10\u001b[0m total_steps \u001b[38;5;241m=\u001b[39m game_config\u001b[38;5;241m.\u001b[39mtraining_steps \u001b[38;5;241m+\u001b[39m game_config\u001b[38;5;241m.\u001b[39mlast_steps\n",
      "File \u001b[0;32m~/repos/EfficientZero/core/train.py:468\u001b[0m, in \u001b[0;36mtrain\u001b[0;34m(config, summary_writer, model_path)\u001b[0m\n\u001b[1;32m    465\u001b[0m workers \u001b[38;5;241m+\u001b[39m\u001b[38;5;241m=\u001b[39m [_test\u001b[38;5;241m.\u001b[39mremote(config, storage)]\n\u001b[1;32m    467\u001b[0m \u001b[38;5;66;03m# training loop\u001b[39;00m\n\u001b[0;32m--> 468\u001b[0m final_weights \u001b[38;5;241m=\u001b[39m \u001b[43m_train\u001b[49m\u001b[43m(\u001b[49m\u001b[43mmodel\u001b[49m\u001b[43m,\u001b[49m\u001b[43m \u001b[49m\u001b[43mtarget_model\u001b[49m\u001b[43m,\u001b[49m\u001b[43m \u001b[49m\u001b[43mreplay_buffer\u001b[49m\u001b[43m,\u001b[49m\u001b[43m \u001b[49m\u001b[43mstorage\u001b[49m\u001b[43m,\u001b[49m\u001b[43m \u001b[49m\u001b[43mbatch_storage\u001b[49m\u001b[43m,\u001b[49m\u001b[43m \u001b[49m\u001b[43mconfig\u001b[49m\u001b[43m,\u001b[49m\u001b[43m \u001b[49m\u001b[43msummary_writer\u001b[49m\u001b[43m)\u001b[49m\n\u001b[1;32m    470\u001b[0m ray\u001b[38;5;241m.\u001b[39mwait(workers)\n\u001b[1;32m    471\u001b[0m \u001b[38;5;28mprint\u001b[39m(\u001b[38;5;124m'\u001b[39m\u001b[38;5;124mTraining over...\u001b[39m\u001b[38;5;124m'\u001b[39m)\n",
      "File \u001b[0;32m~/repos/EfficientZero/core/train.py:362\u001b[0m, in \u001b[0;36m_train\u001b[0;34m(model, target_model, replay_buffer, shared_storage, batch_storage, config, summary_writer)\u001b[0m\n\u001b[1;32m    360\u001b[0m \u001b[38;5;66;03m# wait until collecting enough data to start\u001b[39;00m\n\u001b[1;32m    361\u001b[0m \u001b[38;5;28;01mwhile\u001b[39;00m \u001b[38;5;129;01mnot\u001b[39;00m (ray\u001b[38;5;241m.\u001b[39mget(replay_buffer\u001b[38;5;241m.\u001b[39mget_total_len\u001b[38;5;241m.\u001b[39mremote()) \u001b[38;5;241m>\u001b[39m\u001b[38;5;241m=\u001b[39m config\u001b[38;5;241m.\u001b[39mstart_transitions):\n\u001b[0;32m--> 362\u001b[0m     \u001b[43mtime\u001b[49m\u001b[38;5;241;43m.\u001b[39;49m\u001b[43msleep\u001b[49m\u001b[43m(\u001b[49m\u001b[38;5;241;43m1\u001b[39;49m\u001b[43m)\u001b[49m\n\u001b[1;32m    363\u001b[0m     \u001b[38;5;28;01mpass\u001b[39;00m\n\u001b[1;32m    364\u001b[0m \u001b[38;5;28mprint\u001b[39m(\u001b[38;5;124m'\u001b[39m\u001b[38;5;124mBegin training...\u001b[39m\u001b[38;5;124m'\u001b[39m)\n",
      "\u001b[0;31mKeyboardInterrupt\u001b[0m: "
     ]
    }
   ],
   "source": [
    "try:\n",
    "    if args.opr == 'train':\n",
    "        summary_writer = SummaryWriter(exp_path, flush_secs=10)\n",
    "        if args.load_model and os.path.exists(args.model_path):\n",
    "            model_path = args.model_path\n",
    "        else:\n",
    "            model_path = None\n",
    "        model, weights = train(game_config, summary_writer, model_path)\n",
    "        model.set_weights(weights)\n",
    "        total_steps = game_config.training_steps + game_config.last_steps\n",
    "        test_score, _, test_path = test(game_config, model.to(device), total_steps, game_config.test_episodes, device, render=False, save_video=args.save_video, final_test=True, use_pb=True)\n",
    "        mean_score = test_score.mean()\n",
    "        std_score = test_score.std()\n",
    "\n",
    "        test_log = {\n",
    "            'mean_score': mean_score,\n",
    "            'std_score': std_score,\n",
    "        }\n",
    "        for key, val in test_log.items():\n",
    "            summary_writer.add_scalar('train/{}'.format(key), np.mean(val), total_steps)\n",
    "\n",
    "        test_msg = '#{:<10} Test Mean Score of {}: {:<10} (max: {:<10}, min:{:<10}, std: {:<10})' \\\n",
    "                    ''.format(total_steps, game_config.env_name, mean_score, test_score.max(), test_score.min(), std_score)\n",
    "        logging.getLogger('train_test').info(test_msg)\n",
    "        if args.save_video:\n",
    "            logging.getLogger('train_test').info('Saving video in path: {}'.format(test_path))\n",
    "    elif args.opr == 'test':\n",
    "        assert args.load_model\n",
    "        if args.model_path is None:\n",
    "            model_path = game_config.model_path\n",
    "        else:\n",
    "            model_path = args.model_path\n",
    "        assert os.path.exists(model_path), 'model not found at {}'.format(model_path)\n",
    "\n",
    "        model = game_config.get_uniform_network().to(device)\n",
    "        model.load_state_dict(torch.load(model_path, map_location=torch.device(device)))\n",
    "        test_score, _, test_path = test(game_config, model, 0, args.test_episodes, device=device, render=args.render, save_video=args.save_video, final_test=True, use_pb=True)\n",
    "        mean_score = test_score.mean()\n",
    "        std_score = test_score.std()\n",
    "        logging.getLogger('test').info('Test Mean Score: {} (max: {}, min: {})'.format(mean_score, test_score.max(), test_score.min()))\n",
    "        logging.getLogger('test').info('Test Std Score: {}'.format(std_score))\n",
    "        if args.save_video:\n",
    "            logging.getLogger('test').info('Saving video in path: {}'.format(test_path))\n",
    "    else:\n",
    "        raise Exception('Please select a valid operation(--opr) to be performed')\n",
    "    ray.shutdown()\n",
    "except Exception as e:\n",
    "    logging.getLogger('root').error(e, exc_info=True)\n"
   ]
  },
  {
   "cell_type": "code",
   "execution_count": 9,
   "metadata": {},
   "outputs": [
    {
     "name": "stdout",
     "output_type": "stream",
     "text": [
      "======== Autoscaler status: 2024-07-09 08:51:55.127440 ========\n",
      "Node status\n",
      "---------------------------------------------------------------\n",
      "Active:\n",
      " 1 node_08bcb64f6d23aab40bc8335d8d222aa016ebd7c198871993bac8147f\n",
      "Pending:\n",
      " (no pending nodes)\n",
      "Recent failures:\n",
      " (no failures)\n",
      "\n",
      "Resources\n",
      "---------------------------------------------------------------\n",
      "Usage:\n",
      " 0.0/4.0 CPU\n",
      " 0B/15.05GiB memory\n",
      " 64.58MiB/2.00GiB object_store_memory\n",
      "\n",
      "Demands:\n",
      " {'CPU': 1.0, 'GPU': 0.125}: 1+ pending tasks/actors\n",
      " {'CPU': 1.0, 'GPU': 0.25}: 1+ pending tasks/actors\n",
      "\u001b[0m"
     ]
    }
   ],
   "source": [
    "! ray status"
   ]
  },
  {
   "cell_type": "code",
   "execution_count": null,
   "metadata": {},
   "outputs": [],
   "source": []
  }
 ],
 "metadata": {
  "kernelspec": {
   "display_name": ".venv",
   "language": "python",
   "name": "python3"
  },
  "language_info": {
   "codemirror_mode": {
    "name": "ipython",
    "version": 3
   },
   "file_extension": ".py",
   "mimetype": "text/x-python",
   "name": "python",
   "nbconvert_exporter": "python",
   "pygments_lexer": "ipython3",
   "version": "3.12.3"
  }
 },
 "nbformat": 4,
 "nbformat_minor": 2
}
